{
 "cells": [
  {
   "cell_type": "code",
   "execution_count": 1,
   "metadata": {},
   "outputs": [],
   "source": [
    "\n",
    "from battle import *\n",
    "from numpy.random import random, randint\n",
    "from termcolor import colored\n",
    "# (position=[0,0])\n",
    "chessCanBeUsed = [ant,\n",
    "                  llama,\n",
    "                  wolf, \n",
    "                  ladybug, \n",
    "                  bee, \n",
    "                  swallower, \n",
    "                  sea_hedgehog, \n",
    "                  heal_deer, \n",
    "                  hippo, \n",
    "                  bear, \n",
    "                  butterfly, \n",
    "                  fireworm, \n",
    "                  mantis, \n",
    "                  scorpion, \n",
    "                  anglerfish, \n",
    "                  tiger, \n",
    "                  shark, \n",
    "                  spider, \n",
    "                  rabbit, \n",
    "                #   anglerfish(position=[0,0])\n",
    "                  \n",
    "                  ]\n",
    "cost1Card = [ant, littleUglyFish, rabbit]\n",
    "cost2Card = [llama, wolf, ladybug, bee, swallow, sea_hedgehog]\n",
    "unavail = {electric_eel,monoceros,turtle,elephant,unicorn_b,littleUglyFish,monkey} # octopus\n",
    "# 初始棋子\n",
    "redTeam = []\n",
    "blueTeam = []\n",
    "class Player:\n",
    "  # id = 0\n",
    "  def __init__(self, id) -> None:\n",
    "    # self.id = Player.id\n",
    "    # Player.id += 1\n",
    "    self.id = id\n",
    "    self.round:int = 1\n",
    "    self.chesses: dict[int, chessInterface] = {}\n",
    "    self.chessInHand: list[chessInterface] = [] # max Of 5 cards\n",
    "    self.chessOnField:list[chessInterface] = []\n",
    "    self.goldAvail = 1\n",
    "    self.buffs = []\n",
    "    self.population = 1\n",
    "    self.roundToNextPop = 1\n",
    "    self.goldToNextPop = 1\n",
    "    self.cost2Chance = 0 # 抽到2星卡的概率\n",
    "    self.hp = 100\n",
    "\n",
    "  def __repr__(self) -> str:\n",
    "    if self.id == 0:\n",
    "      color = 'red'\n",
    "    else: \n",
    "      color = 'blue'\n",
    "    return f\"{colored('玩家'+str(self.id),color)}\"\n",
    "  \n",
    "  def printStatus(self) -> None:\n",
    "    print (f\"\\n\" + \\\n",
    "          f\"当前回合 {self.round}, 剩余血量：{self.hp}\\n\" + \\\n",
    "          f\"{self} 现在拥有 {colored(self.population,'green')} 人口，距离下次升级还需要{colored(self.roundToNextPop,'light_cyan')}回合，或者{colored(self.roundToNextPop*self.roundToNextPop,'light_cyan')}金钱；\\n\" + \\\n",
    "          f\"现在拥有的棋子为{self.chesses}\\n\" + \\\n",
    "          f\"备战区棋子：{self.chessInHand}，上场棋子{self.chessOnField}；\\n\"+ \\\n",
    "          f\"当前回合还有可用金钱{colored(self.goldAvail, 'yellow')}；\\n\" + \\\n",
    "          f\"玩家buff有{self.buffs}；\\n\" + \\\n",
    "          \"\\n\")\n",
    "\n",
    "  def next_round(self):\n",
    "    '''每回合开始阶段调用这个方法'''\n",
    "    self.hp -= 10\n",
    "    self.round += 1\n",
    "    self.goldAvail = deepcopy(self.round)\n",
    "    self.checkPopulationUpdate()      \n",
    "    self.printStatus()  \n",
    "  \n",
    "# 金钱部分\n",
    "  def reduce_gold(self, howMuch, purpose: str):\n",
    "    '''花钱的时候调用这个方法'''\n",
    "    if self.goldAvail - howMuch >= 0:\n",
    "      self.goldAvail -= howMuch\n",
    "      print(self,purpose,f\"{colored('成功','green')},共花费: \",howMuch,\" 金币，还剩 \",self.goldAvail,\" 金币。\")\n",
    "      return True\n",
    "    else:\n",
    "      print(self,purpose,f\"{colored('失败','red')},需要: \",howMuch,' 金币，现有 ',self.goldAvail,f\" 金币，差{howMuch - self.goldAvail}金币。\")\n",
    "      return False\n",
    "    \n",
    "  def checkPopulationUpdate(self):\n",
    "    \"\"\"检查人口是否上升\"\"\"\n",
    "    self.roundToNextPop -= 1\n",
    "    self.goldToNextPop -= self.population\n",
    "    if self.roundToNextPop == 0:\n",
    "      self.population += 1\n",
    "      self.roundToNextPop = deepcopy(self.population)\n",
    "      self.costForNextPop = deepcopy(self.population)\n",
    "      print(f\"玩家{self.id} 现在拥有 {colored(self.population,'green')} 人口，升级至下一人口还需要{colored(self.roundToNextPop,'light_cyan')}回合，或者 {colored(self.roundToNextPop*self.roundToNextPop,'light_cyan')} 金钱；\\n\")\n",
    "      \n",
    "# 人口部分\n",
    "  def upgrade_pop(self):\n",
    "    \"\"\"用金币升级人口\"\"\"\n",
    "    if self.reduce_gold(purpose=f\"升级人口\", howMuch=self.population):\n",
    "      self.checkPopulationUpdate()\n",
    "      \n",
    "# 棋子部分\n",
    "  def printChesses(self):\n",
    "    print(self.chesses)\n",
    "    \n",
    "  def get_random_chess_to_draw(self):\n",
    "    \"\"\"每回合随机抽卡\"\"\"\n",
    "    cardList = []\n",
    "    for i in range(3):\n",
    "      if random() < self.cost2Chance:\n",
    "        cardList.append( cost2Card[randint(0,len(cost2Card))] )\n",
    "      else:\n",
    "        cardList.append( cost1Card[randint(0,len(cost1Card))] )\n",
    "    print(self,\"本次选择有\",cardList)\n",
    "    return cardList\n",
    "  def redraw(self):\n",
    "    \"\"\"重新抽卡\"\"\"\n",
    "    if self.reduce_gold(purpose=f'刷新棋子', howMuch = 3):\n",
    "      self.get_random_chess_to_draw()\n",
    "    \n",
    "  def checkChessID(self, chessID:int) -> chessInterface:\n",
    "    print(chessID, type(chessID),self.chesses)\n",
    "    try:\n",
    "      chess = self.chesses[chessID]\n",
    "    except:\n",
    "      raise KeyError(f\"{self}没有这张卡\")\n",
    "    return chess\n",
    "\n",
    "  def get_chess(self,newChess: chessInterface):\n",
    "    \"\"\"购买棋子\"\"\"\n",
    "    newChess.team = self.id\n",
    "    if self.reduce_gold(purpose=f\"购买棋子{newChess}\", howMuch=newChess.star):\n",
    "      self.chessInHand.append(newChess)\n",
    "      self.chesses[newChess.uniqueID] = newChess \n",
    "\n",
    "  def sell_chess(self, chessID: int):\n",
    "    \"\"\"出售棋子\"\"\"\n",
    "    chess = self.checkChessID(chessID=chessID)\n",
    "    if self.chesses[chess]:\n",
    "      self.chessOnField.remove(chess)\n",
    "      self.goldAvail += chess.star/2\n",
    "      print(f\"{self}:已被卖掉，从chessOnField and chesses中移除,{self}获得金钱{chess.star/2}，现在闲置金钱{self.goldAvail}\")\n",
    "    else:\n",
    "      self.chessInHand.remove(chess)\n",
    "      self.goldAvail += chess.star/2\n",
    "      print(f\"{self}:已被卖掉，从chessInHand and chesses中移除,{self}获得金钱{chess.star/2}，现在闲置金钱{self.goldAvail}\")\n",
    "    for (s, c) in self.chesses.items():\n",
    "      if c == chess:\n",
    "        break\n",
    "    del self.chesses[s]\n",
    "    print(  f\"       现在拥有的棋子为{self.chesses}\")\n",
    "    print(  f\"       备战区棋子：{self.chessInHand}，\\n  上场棋子{self.chessOnField}；\")\n",
    "      \n",
    "  def hand_to_field(self, chessID: int, position: list[int]):\n",
    "    \"\"\"上场棋子\"\"\"\n",
    "    \n",
    "    chess = self.checkChessID(chessID=chessID)\n",
    "    if chess in self.chessOnField:\n",
    "      print(f\"棋子{chess}已经在场上了，请勿重复上场!\")\n",
    "      return\n",
    "    self.chessInHand.remove(chess)\n",
    "    self.chessOnField.append(chess)\n",
    "    chess.setInitialPosition(position = position)\n",
    "    chess.onField = True\n",
    "    print(f\"{self}:{chess}上场到位置{colored(str(chess.position), color='magenta')}\")\n",
    "    print(f\"       备战区棋子：{self.chessInHand}，\\n       上场棋子{self.chessOnField}；\")\n",
    "    \n",
    "  def field_to_hand(self, chessID: int):\n",
    "    \"\"\"下场棋子\"\"\"\n",
    "    chess = self.checkChessID(chessID=chessID)\n",
    "    if chess in self.chessInHand:\n",
    "      print(f\"棋子{chess}已经在备战区了，不能下场！\")\n",
    "      return\n",
    "    chess.position = [-1,-1]\n",
    "    self.chessOnField.remove(chess)\n",
    "    self.chessInHand.append(chess)\n",
    "    chess.onField = False\n",
    "    print(f\"{self}:{chess}下场\")\n",
    "    print(f\"       备战区棋子：{self.chessInHand}，\\n       上场棋子{self.chessOnField}；\")\n",
    "    \n",
    "  \n",
    "# 棋子升级\n",
    "  def first_2_copy(self, chessID: int) -> list[chessInterface]:\n",
    "    chess = self.checkChessID(chessID=chessID)\n",
    "    sameChess = []\n",
    "    for c in self.chesses.values():\n",
    "      if c.id == chess.id:\n",
    "        sameChess.append(c)\n",
    "    if len(sameChess) >= 2:\n",
    "      return sameChess[:2]\n",
    "    else:\n",
    "      return []\n",
    "\n",
    "  def upgrade_chess(self, chessID: int ):\n",
    "    chess = self.checkChessID(chessID=chessID)\n",
    "    sameChessList = self.first_2_copy(chessID=chessID)\n",
    "    if len(sameChessList) >= 2:\n",
    "      for c in sameChessList:\n",
    "        if c.onField:\n",
    "          self.chessOnField.remove(c)\n",
    "        else:\n",
    "          self.chessInHand.remove(c)\n",
    "        del self.chesses[c.uniqueID]\n",
    "        c.onField = False\n",
    "      print(f\"  {self}:{chess}升级{colored('成功','green')}，请选择一个 {chess.star + 1} 星棋子\")\n",
    "      print(f\"         选项有：{self.upgrade_dict[chess.id]}\")\n",
    "    else:\n",
    "      print(f\"  {self}:{chess}升级{colored('失败','red')}，请检查棋子持有数量\")\n",
    "        \n",
    "  upgrade_dict = {1: [4, 5], 2: [6, 7], 3: [8, 9], # 1 star 兔子，蚂蚁，小丑鱼\n",
    "\n",
    "                  4: [10, 11], 5: [12, 13], # 2 star mammal 4：羊驼， 5:狼 \n",
    "                  6: [14, 15], 7: [16, 17],  # 2 star insect 6: 瓢虫 ，7: 蜜蜂\n",
    "                  8: [18, 19], 9: [20, 21], # 2 star marine  8: 食人鱼 9: 海胆\n",
    "\n",
    "                  10: [23,24], 11: [23,24], # 3 star mammal ranged 麋鹿， 猴\n",
    "                  12: [23,24], 13: [23,24], # 3 star mammal melee 犀牛， 熊\n",
    "\n",
    "                  14: [25,26], 15: [25,26], # 3 star insect ranged 蝴蝶， 萤火虫\n",
    "                  16: [25,26], 17: [25,26], # 3 star insect melee 螳螂， 蝎子\n",
    "                  \n",
    "                  18: [27,28], 19: [27,28], # 3 star marine ranged 灯笼鱼， 电鳗\n",
    "                  20: [27,28], 21: [27,28], 22:[], # 3 star marine ranged 螃蟹，一角鲸，海龟\n",
    "\n",
    "                  23:[],24:[], # 大象， 老虎\n",
    "                  25:[], 26:[],  # 独角仙， 蜘蛛\n",
    "                  27:[], 28:[]} # 章鱼， 鲨鱼\n",
    "  chess_dict = {1: rabbit, 2:ant, 3:littleUglyFish, \n",
    "                \n",
    "                4:llama, 5:wolf, \n",
    "                6:ladybug, 7: bee, \n",
    "                8: swallower, 9:sea_hedgehog,  \n",
    "                \n",
    "                10: heal_deer, 11: monkey, \n",
    "                12: hippo, 13: bear,\n",
    "                14: butterfly, 15: fireworm,\n",
    "                16: mantis, 17: scorpion, # 3 star insect melee 螳螂， 蝎子\n",
    "                  \n",
    "                18: anglerfish, 19: electric_eel, # 3 star marine ranged 灯笼鱼， 电鳗\n",
    "                20: crab, 21: monoceros, 22: turtle, # 3 star marine ranged 螃蟹，一角鲸，海龟\n",
    "\n",
    "                23:elephant,24:tiger, # 大象， 老虎\n",
    "                25:unicorn_b, 26:spider,  # 独角仙， 蜘蛛\n",
    "                27:octopus, 28:shark} # 章鱼， 鲨鱼\n",
    "    \n",
    "  # def get_chess(self,chess:chessInterface):\n",
    "  #   if chess.id in [1,2,3]:\n",
    "  #     self.goldAvail -= 1\n",
    "  #   elif chess.id in [4,5,6,7,8,9]:\n",
    "  #     self.goldAvail -= 2\n",
    "\n",
    "  "
   ]
  },
  {
   "cell_type": "code",
   "execution_count": 2,
   "metadata": {},
   "outputs": [],
   "source": [
    "# 初始化玩家\n",
    "player1 = Player(0)\n",
    "player2 = Player(1)"
   ]
  },
  {
   "cell_type": "markdown",
   "metadata": {},
   "source": [
    "回合1\n",
    "\n",
    "\n",
    "每人1棋子"
   ]
  },
  {
   "cell_type": "code",
   "execution_count": 3,
   "metadata": {},
   "outputs": [
    {
     "name": "stdout",
     "output_type": "stream",
     "text": [
      "\n",
      "当前回合 1, 剩余血量：100\n",
      "\u001b[31m玩家0\u001b[0m 现在拥有 \u001b[32m1\u001b[0m 人口，距离下次升级还需要\u001b[96m1\u001b[0m回合，或者\u001b[96m1\u001b[0m金钱；\n",
      "现在拥有的棋子为{}\n",
      "备战区棋子：[]，上场棋子[]；\n",
      "当前回合还有可用金钱\u001b[33m1\u001b[0m；\n",
      "玩家buff有[]；\n",
      "\n",
      "\n",
      "\n",
      "当前回合 1, 剩余血量：100\n",
      "\u001b[34m玩家1\u001b[0m 现在拥有 \u001b[32m1\u001b[0m 人口，距离下次升级还需要\u001b[96m1\u001b[0m回合，或者\u001b[96m1\u001b[0m金钱；\n",
      "现在拥有的棋子为{}\n",
      "备战区棋子：[]，上场棋子[]；\n",
      "当前回合还有可用金钱\u001b[33m1\u001b[0m；\n",
      "玩家buff有[]；\n",
      "\n",
      "\n",
      "\u001b[31m玩家0\u001b[0m 本次选择有 [<class 'chess_info.ant'>, <class 'chess_info.littleUglyFish'>, <class 'chess_info.littleUglyFish'>]\n",
      "\u001b[34m玩家1\u001b[0m 本次选择有 [<class 'chess_info.littleUglyFish'>, <class 'chess_info.rabbit'>, <class 'chess_info.ant'>]\n"
     ]
    },
    {
     "data": {
      "text/plain": [
       "[chess_info.littleUglyFish, chess_info.rabbit, chess_info.ant]"
      ]
     },
     "execution_count": 3,
     "metadata": {},
     "output_type": "execute_result"
    }
   ],
   "source": [
    "player1.printStatus()\n",
    "player2.printStatus()\n",
    "player1.get_random_chess_to_draw()\n",
    "player2.get_random_chess_to_draw()\n",
    "\n"
   ]
  },
  {
   "cell_type": "code",
   "execution_count": 4,
   "metadata": {},
   "outputs": [
    {
     "name": "stdout",
     "output_type": "stream",
     "text": [
      "\u001b[31m玩家0\u001b[0m 购买棋子\u001b[31m小丑鱼1\u001b[0m \u001b[32m成功\u001b[0m,共花费:  1  金币，还剩  0  金币。\n",
      "\u001b[34m玩家1\u001b[0m 购买棋子\u001b[34m兔子2\u001b[0m \u001b[32m成功\u001b[0m,共花费:  1  金币，还剩  0  金币。\n",
      "{1: \u001b[31m小丑鱼1\u001b[0m}\n",
      "{2: \u001b[34m兔子2\u001b[0m}\n"
     ]
    }
   ],
   "source": [
    "# 选择棋子\n",
    "player1.get_chess(littleUglyFish())\n",
    "player2.get_chess(rabbit())\n",
    "\n",
    "player1.printChesses()\n",
    "player2.printChesses()\n"
   ]
  },
  {
   "cell_type": "code",
   "execution_count": 5,
   "metadata": {},
   "outputs": [
    {
     "name": "stdout",
     "output_type": "stream",
     "text": [
      "1 <class 'int'> {1: \u001b[31m小丑鱼1\u001b[0m}\n",
      "\u001b[31m玩家0\u001b[0m:\u001b[31m小丑鱼1\u001b[0m上场到位置\u001b[35m[2, 1]\u001b[0m\n",
      "       备战区棋子：[]，\n",
      "       上场棋子[\u001b[31m小丑鱼1\u001b[0m]；\n",
      "2 <class 'int'> {2: \u001b[34m兔子2\u001b[0m}\n",
      "\u001b[34m玩家1\u001b[0m:\u001b[34m兔子2\u001b[0m上场到位置\u001b[35m[3, 2]\u001b[0m\n",
      "       备战区棋子：[]，\n",
      "       上场棋子[\u001b[34m兔子2\u001b[0m]；\n"
     ]
    }
   ],
   "source": [
    "# 准备阶段\n",
    "player1Chess = 1\n",
    "player2Chess = 2\n",
    "\n",
    "# 上场棋子\n",
    "player1.hand_to_field(player1Chess, position=[2,1])\n",
    "player2.hand_to_field(player2Chess, position=[3,2])\n",
    "\n",
    "# 下场棋子\n",
    "\n",
    "# player1.field_to_hand(player1Chess)\n",
    "# player2.field_to_hand(player2Chess)\n",
    "\n",
    "# player1.printStatus()\n",
    "# player2.printStatus()\n"
   ]
  },
  {
   "cell_type": "code",
   "execution_count": 6,
   "metadata": {},
   "outputs": [
    {
     "name": "stdout",
     "output_type": "stream",
     "text": [
      "\n",
      "[None, None, None, None, None]\n",
      "\n",
      "[None, None, None, None, None]\n",
      "\n",
      "[None, \u001b[31m小丑鱼1\u001b[0m, None, None, None]\n",
      "\n",
      "[None, None, \u001b[34m兔子2\u001b[0m, None, None]\n",
      "\n",
      "[None, None, None, None, None]\n",
      "\n",
      "[None, None, None, None, None]\n",
      "\n",
      "\n",
      "0.05   \u001b[34m兔子2\u001b[0m开始从[3, 2]移动到[2, 1] \n",
      "0.05 <\u001b[34m兔子2\u001b[0m>向<up> 移动了一格\n",
      "\n",
      "[None, None, None, None, None]\n",
      "\n",
      "[None, None, None, None, None]\n",
      "\n",
      "[None, \u001b[31m小丑鱼1\u001b[0m, \u001b[34m兔子2\u001b[0m, None, None]\n",
      "\n",
      "[None, None, None, None, None]\n",
      "\n",
      "[None, None, None, None, None]\n",
      "\n",
      "[None, None, None, None, None]\n",
      "\n",
      "\n",
      "0.4   \u001b[34m兔子2\u001b[0m的状态【\u001b[36m移动\u001b[0m】结束\n",
      "0.9 <\u001b[31m小丑鱼1\u001b[0m> 攻击了<\u001b[34m兔子2\u001b[0m>, 造成了\u001b[36m23.204419889502763\u001b[0m点伤害，<\u001b[34m兔子2\u001b[0m>生命值还剩:\u001b[32m294.7955801104972\u001b[0m / 318\n",
      "1.25 <\u001b[34m兔子2\u001b[0m> 攻击了<\u001b[31m小丑鱼1\u001b[0m>, 造成了\u001b[36m19.35483870967742\u001b[0m点伤害，<\u001b[31m小丑鱼1\u001b[0m>生命值还剩:\u001b[32m196.6451612903226\u001b[0m / 216\n",
      "1.8 <\u001b[31m小丑鱼1\u001b[0m> 攻击了<\u001b[34m兔子2\u001b[0m>, 造成了\u001b[36m23.204419889502763\u001b[0m点伤害，<\u001b[34m兔子2\u001b[0m>生命值还剩:\u001b[32m271.5911602209944\u001b[0m / 318\n",
      "2.15 <\u001b[34m兔子2\u001b[0m> 攻击了<\u001b[31m小丑鱼1\u001b[0m>, 造成了\u001b[36m19.35483870967742\u001b[0m点伤害，<\u001b[31m小丑鱼1\u001b[0m>生命值还剩:\u001b[32m177.29032258064518\u001b[0m / 216\n",
      "2.7 <\u001b[31m小丑鱼1\u001b[0m> 攻击了<\u001b[34m兔子2\u001b[0m>, 造成了\u001b[36m23.204419889502763\u001b[0m点伤害，<\u001b[34m兔子2\u001b[0m>生命值还剩:\u001b[32m248.38674033149167\u001b[0m / 318\n",
      "3.05 <\u001b[34m兔子2\u001b[0m> 攻击了<\u001b[31m小丑鱼1\u001b[0m>, 造成了\u001b[36m19.35483870967742\u001b[0m点伤害，<\u001b[31m小丑鱼1\u001b[0m>生命值还剩:\u001b[32m157.93548387096777\u001b[0m / 216\n",
      "3.6 <\u001b[31m小丑鱼1\u001b[0m> 攻击了<\u001b[34m兔子2\u001b[0m>, 造成了\u001b[36m23.204419889502763\u001b[0m点伤害，<\u001b[34m兔子2\u001b[0m>生命值还剩:\u001b[32m225.1823204419889\u001b[0m / 318\n",
      "3.95 <\u001b[34m兔子2\u001b[0m> 攻击了<\u001b[31m小丑鱼1\u001b[0m>, 造成了\u001b[36m19.35483870967742\u001b[0m点伤害，<\u001b[31m小丑鱼1\u001b[0m>生命值还剩:\u001b[32m138.58064516129036\u001b[0m / 216\n",
      "4.0   \u001b[34m兔子2\u001b[0m对\u001b[31m小丑鱼1\u001b[0m使用了*\u001b[32m回手掏\u001b[0m*,造成100点伤害\n",
      "4.0   \u001b[31m小丑鱼1\u001b[0m被【\u001b[36m眩晕\u001b[0m】了！\n",
      "4.9 <\u001b[34m兔子2\u001b[0m> 攻击了<\u001b[31m小丑鱼1\u001b[0m>, 造成了\u001b[36m19.35483870967742\u001b[0m点伤害，<\u001b[31m小丑鱼1\u001b[0m>生命值还剩:\u001b[32m19.225806451612943\u001b[0m / 216\n",
      "5.05   \u001b[31m小丑鱼1\u001b[0m的状态【\u001b[36m眩晕\u001b[0m】结束\n",
      "5.8 <\u001b[34m兔子2\u001b[0m> 攻击了<\u001b[31m小丑鱼1\u001b[0m>, 造成了\u001b[36m19.35483870967742\u001b[0m点伤害，<\u001b[31m小丑鱼1\u001b[0m>生命值还剩:\u001b[32m-0.12903225806447693\u001b[0m / 216\n",
      "\n",
      "    \u001b[31m小丑鱼1\u001b[0m 已经被打败!\n",
      "\n",
      "\u001b[34m蓝\u001b[0m方获胜!\n",
      "\n",
      "[None, None, None, None, None]\n",
      "\n",
      "[None, None, None, None, None]\n",
      "\n",
      "[None, \u001b[31m小丑鱼1\u001b[0m, \u001b[34m兔子2\u001b[0m, None, None]\n",
      "\n",
      "[None, None, None, None, None]\n",
      "\n",
      "[None, None, None, None, None]\n",
      "\n",
      "[None, None, None, None, None]\n",
      "\n",
      "\n",
      "\u001b[31m小丑鱼1\u001b[0m 92.81767955801105\n",
      "\u001b[34m兔子2\u001b[0m 216.1290322580645\n",
      "\u001b[31m小丑鱼1\u001b[0m 被重置了，位置为[2, 1],血量为216/216\n",
      "\u001b[34m兔子2\u001b[0m 被重置了，位置为[3, 2],血量为318/318\n"
     ]
    }
   ],
   "source": [
    "# 战斗阶段\n",
    "round1Battle = battle()\n",
    "round1Battle.addRedTeam(redTeam= player1.chessOnField)\n",
    "round1Battle.addBlueTeam(blueTeam= player2.chessOnField)\n",
    "round1Battle.battle_with_skills()\n"
   ]
  },
  {
   "cell_type": "markdown",
   "metadata": {},
   "source": [
    "回合2\n"
   ]
  },
  {
   "cell_type": "code",
   "execution_count": 7,
   "metadata": {},
   "outputs": [
    {
     "name": "stdout",
     "output_type": "stream",
     "text": [
      "玩家0 现在拥有 \u001b[32m2\u001b[0m 人口，升级至下一人口还需要\u001b[96m2\u001b[0m回合，或者 \u001b[96m4\u001b[0m 金钱；\n",
      "\n",
      "\n",
      "当前回合 2, 剩余血量：90\n",
      "\u001b[31m玩家0\u001b[0m 现在拥有 \u001b[32m2\u001b[0m 人口，距离下次升级还需要\u001b[96m2\u001b[0m回合，或者\u001b[96m4\u001b[0m金钱；\n",
      "现在拥有的棋子为{1: \u001b[31m小丑鱼1\u001b[0m}\n",
      "备战区棋子：[]，上场棋子[\u001b[31m小丑鱼1\u001b[0m]；\n",
      "当前回合还有可用金钱\u001b[33m2\u001b[0m；\n",
      "玩家buff有[]；\n",
      "\n",
      "\n",
      "玩家1 现在拥有 \u001b[32m2\u001b[0m 人口，升级至下一人口还需要\u001b[96m2\u001b[0m回合，或者 \u001b[96m4\u001b[0m 金钱；\n",
      "\n",
      "\n",
      "当前回合 2, 剩余血量：90\n",
      "\u001b[34m玩家1\u001b[0m 现在拥有 \u001b[32m2\u001b[0m 人口，距离下次升级还需要\u001b[96m2\u001b[0m回合，或者\u001b[96m4\u001b[0m金钱；\n",
      "现在拥有的棋子为{2: \u001b[34m兔子2\u001b[0m}\n",
      "备战区棋子：[]，上场棋子[\u001b[34m兔子2\u001b[0m]；\n",
      "当前回合还有可用金钱\u001b[33m2\u001b[0m；\n",
      "玩家buff有[]；\n",
      "\n",
      "\n",
      "\u001b[31m玩家0\u001b[0m 本次选择有 [<class 'chess_info.ant'>, <class 'chess_info.littleUglyFish'>, <class 'chess_info.ant'>]\n",
      "\u001b[34m玩家1\u001b[0m 本次选择有 [<class 'chess_info.rabbit'>, <class 'chess_info.littleUglyFish'>, <class 'chess_info.littleUglyFish'>]\n"
     ]
    },
    {
     "data": {
      "text/plain": [
       "[chess_info.rabbit, chess_info.littleUglyFish, chess_info.littleUglyFish]"
      ]
     },
     "execution_count": 7,
     "metadata": {},
     "output_type": "execute_result"
    }
   ],
   "source": [
    "player1.next_round()\n",
    "player2.next_round()\n",
    "\n",
    "player1.get_random_chess_to_draw()\n",
    "player2.get_random_chess_to_draw()"
   ]
  },
  {
   "cell_type": "code",
   "execution_count": 8,
   "metadata": {},
   "outputs": [
    {
     "name": "stdout",
     "output_type": "stream",
     "text": [
      "\u001b[31m玩家0\u001b[0m 购买棋子\u001b[31m蚂蚁3\u001b[0m \u001b[32m成功\u001b[0m,共花费:  1  金币，还剩  1  金币。\n",
      "\u001b[31m玩家0\u001b[0m 购买棋子\u001b[31m蚂蚁4\u001b[0m \u001b[32m成功\u001b[0m,共花费:  1  金币，还剩  0  金币。\n",
      "\u001b[34m玩家1\u001b[0m 购买棋子\u001b[34m蚂蚁5\u001b[0m \u001b[32m成功\u001b[0m,共花费:  1  金币，还剩  1  金币。\n",
      "\u001b[34m玩家1\u001b[0m 购买棋子\u001b[34m蚂蚁6\u001b[0m \u001b[32m成功\u001b[0m,共花费:  1  金币，还剩  0  金币。\n"
     ]
    }
   ],
   "source": [
    "player1.get_chess(ant())\n",
    "player1.get_chess(ant())\n",
    "player2.get_chess(ant())\n",
    "player2.get_chess(ant())"
   ]
  },
  {
   "cell_type": "code",
   "execution_count": 9,
   "metadata": {},
   "outputs": [
    {
     "name": "stdout",
     "output_type": "stream",
     "text": [
      "3 <class 'int'> {1: \u001b[31m小丑鱼1\u001b[0m, 3: \u001b[31m蚂蚁3\u001b[0m, 4: \u001b[31m蚂蚁4\u001b[0m}\n",
      "\u001b[31m蚂蚁3\u001b[0m <class 'chess_info.ant'> {1: \u001b[31m小丑鱼1\u001b[0m, 3: \u001b[31m蚂蚁3\u001b[0m, 4: \u001b[31m蚂蚁4\u001b[0m}\n"
     ]
    },
    {
     "ename": "KeyError",
     "evalue": "'\\x1b[31m玩家0\\x1b[0m没有这张卡'",
     "output_type": "error",
     "traceback": [
      "\u001b[0;31m---------------------------------------------------------------------------\u001b[0m",
      "\u001b[0;31mTypeError\u001b[0m                                 Traceback (most recent call last)",
      "Cell \u001b[0;32mIn[1], line 125\u001b[0m, in \u001b[0;36mPlayer.checkChessID\u001b[0;34m(self, chessID)\u001b[0m\n\u001b[1;32m    124\u001b[0m \u001b[39mtry\u001b[39;00m:\n\u001b[0;32m--> 125\u001b[0m   chess \u001b[39m=\u001b[39m \u001b[39mself\u001b[39;49m\u001b[39m.\u001b[39;49mchesses[chessID]\n\u001b[1;32m    126\u001b[0m \u001b[39mexcept\u001b[39;00m:\n",
      "\u001b[0;31mTypeError\u001b[0m: unhashable type: 'ant'",
      "\nDuring handling of the above exception, another exception occurred:\n",
      "\u001b[0;31mKeyError\u001b[0m                                  Traceback (most recent call last)",
      "Cell \u001b[0;32mIn[9], line 2\u001b[0m\n\u001b[1;32m      1\u001b[0m \u001b[39m# print(player1.chesses[3])\u001b[39;00m\n\u001b[0;32m----> 2\u001b[0m player1\u001b[39m.\u001b[39;49mupgrade_chess(chessID \u001b[39m=\u001b[39;49m \u001b[39m3\u001b[39;49m)\n",
      "Cell \u001b[0;32mIn[1], line 197\u001b[0m, in \u001b[0;36mPlayer.upgrade_chess\u001b[0;34m(self, chessID)\u001b[0m\n\u001b[1;32m    195\u001b[0m \u001b[39mdef\u001b[39;00m \u001b[39mupgrade_chess\u001b[39m(\u001b[39mself\u001b[39m, chessID: \u001b[39mint\u001b[39m ):\n\u001b[1;32m    196\u001b[0m   chess \u001b[39m=\u001b[39m \u001b[39mself\u001b[39m\u001b[39m.\u001b[39mcheckChessID(chessID\u001b[39m=\u001b[39mchessID)\n\u001b[0;32m--> 197\u001b[0m   sameChess \u001b[39m=\u001b[39m \u001b[39mself\u001b[39;49m\u001b[39m.\u001b[39;49mfirst_2_copy(chess)\n\u001b[1;32m    198\u001b[0m   \u001b[39mif\u001b[39;00m \u001b[39mlen\u001b[39m(sameChess) \u001b[39m>\u001b[39m\u001b[39m=\u001b[39m \u001b[39m2\u001b[39m:\n\u001b[1;32m    199\u001b[0m     \u001b[39mfor\u001b[39;00m c \u001b[39min\u001b[39;00m sameChess:\n",
      "Cell \u001b[0;32mIn[1], line 185\u001b[0m, in \u001b[0;36mPlayer.first_2_copy\u001b[0;34m(self, chessID)\u001b[0m\n\u001b[1;32m    184\u001b[0m \u001b[39mdef\u001b[39;00m \u001b[39mfirst_2_copy\u001b[39m(\u001b[39mself\u001b[39m, chessID: \u001b[39mint\u001b[39m) \u001b[39m-\u001b[39m\u001b[39m>\u001b[39m \u001b[39mlist\u001b[39m[chessInterface]:\n\u001b[0;32m--> 185\u001b[0m   chess \u001b[39m=\u001b[39m \u001b[39mself\u001b[39;49m\u001b[39m.\u001b[39;49mcheckChessID(chessID\u001b[39m=\u001b[39;49mchessID)\n\u001b[1;32m    186\u001b[0m   sameChess \u001b[39m=\u001b[39m []\n\u001b[1;32m    187\u001b[0m   \u001b[39mfor\u001b[39;00m c \u001b[39min\u001b[39;00m \u001b[39mself\u001b[39m\u001b[39m.\u001b[39mchesses\u001b[39m.\u001b[39mvalues():\n",
      "Cell \u001b[0;32mIn[1], line 127\u001b[0m, in \u001b[0;36mPlayer.checkChessID\u001b[0;34m(self, chessID)\u001b[0m\n\u001b[1;32m    125\u001b[0m   chess \u001b[39m=\u001b[39m \u001b[39mself\u001b[39m\u001b[39m.\u001b[39mchesses[chessID]\n\u001b[1;32m    126\u001b[0m \u001b[39mexcept\u001b[39;00m:\n\u001b[0;32m--> 127\u001b[0m   \u001b[39mraise\u001b[39;00m \u001b[39mKeyError\u001b[39;00m(\u001b[39mf\u001b[39m\u001b[39m\"\u001b[39m\u001b[39m{\u001b[39;00m\u001b[39mself\u001b[39m\u001b[39m}\u001b[39;00m\u001b[39m没有这张卡\u001b[39m\u001b[39m\"\u001b[39m)\n\u001b[1;32m    128\u001b[0m \u001b[39mreturn\u001b[39;00m chess\n",
      "\u001b[0;31mKeyError\u001b[0m: '\\x1b[31m玩家0\\x1b[0m没有这张卡'"
     ]
    }
   ],
   "source": [
    "# print(player1.chesses[3])\n",
    "player1.upgrade_chess(chessID = 3)"
   ]
  },
  {
   "cell_type": "markdown",
   "metadata": {},
   "source": [
    "回合3\n"
   ]
  },
  {
   "cell_type": "code",
   "execution_count": null,
   "metadata": {},
   "outputs": [],
   "source": [
    "# player1.printStatus()\n",
    "# player2.printStatus()\n",
    "# player1.get_random_chess_to_draw()\n",
    "# player2.get_random_chess_to_draw()\n",
    "# player1.get_chess()\n",
    "# player2.get_chess()\n",
    "\n",
    "# player1.redraw()\n",
    "# player2.upgrade_pop()\n",
    "# player1.upgrade_chess()"
   ]
  },
  {
   "cell_type": "markdown",
   "metadata": {},
   "source": [
    "回合4\n"
   ]
  },
  {
   "cell_type": "code",
   "execution_count": null,
   "metadata": {},
   "outputs": [],
   "source": []
  },
  {
   "cell_type": "markdown",
   "metadata": {},
   "source": [
    "回合5\n"
   ]
  },
  {
   "cell_type": "code",
   "execution_count": null,
   "metadata": {},
   "outputs": [],
   "source": []
  },
  {
   "cell_type": "markdown",
   "metadata": {},
   "source": [
    "回合6\n"
   ]
  },
  {
   "cell_type": "code",
   "execution_count": null,
   "metadata": {},
   "outputs": [],
   "source": []
  },
  {
   "cell_type": "markdown",
   "metadata": {},
   "source": [
    "回合7\n"
   ]
  },
  {
   "cell_type": "code",
   "execution_count": null,
   "metadata": {},
   "outputs": [],
   "source": []
  },
  {
   "cell_type": "code",
   "execution_count": null,
   "metadata": {},
   "outputs": [],
   "source": []
  },
  {
   "cell_type": "code",
   "execution_count": null,
   "metadata": {},
   "outputs": [],
   "source": []
  },
  {
   "cell_type": "code",
   "execution_count": null,
   "metadata": {},
   "outputs": [],
   "source": []
  },
  {
   "cell_type": "code",
   "execution_count": null,
   "metadata": {},
   "outputs": [],
   "source": []
  },
  {
   "cell_type": "code",
   "execution_count": null,
   "metadata": {},
   "outputs": [],
   "source": []
  },
  {
   "cell_type": "markdown",
   "metadata": {},
   "source": []
  },
  {
   "cell_type": "code",
   "execution_count": null,
   "metadata": {},
   "outputs": [],
   "source": [
    "    # [ [0,0] [0,1] [0,2] [0,3] [0,4] ]\n",
    "    # [ [1,0] [1,1] [1,2] [1,3] [1,4] ]\n",
    "    # [ [2,0] [2,1] [2,2] [2,3] [2,4] ]\n",
    "    \n",
    "    # [ [3,0] [3,1] [3,2] [3,3] [3,4] ]\n",
    "    # [ [4,0] [4,1] [4,2] [4,3] [4,4] ]\n",
    "    # [ [5,0] [5,1] [5,2] [5,3] [5,4] ]\n",
    "# blueTeam = [bear(position = [3,2]), bee(position=[5,4]),sea_hedgehog(position=[3,4])]"
   ]
  }
 ],
 "metadata": {
  "kernelspec": {
   "display_name": "Python 3",
   "language": "python",
   "name": "python3"
  },
  "language_info": {
   "codemirror_mode": {
    "name": "ipython",
    "version": 3
   },
   "file_extension": ".py",
   "mimetype": "text/x-python",
   "name": "python",
   "nbconvert_exporter": "python",
   "pygments_lexer": "ipython3",
   "version": "3.11.3"
  },
  "orig_nbformat": 4
 },
 "nbformat": 4,
 "nbformat_minor": 2
}
