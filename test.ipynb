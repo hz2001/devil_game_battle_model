{
 "cells": [
  {
   "cell_type": "code",
   "execution_count": 30,
   "metadata": {},
   "outputs": [],
   "source": [
    "class animal:\n",
    "    id = 1\n",
    "    def __init__(self, val:int) -> None:\n",
    "        self.val = val\n",
    "        # self.id = animal.id\n",
    "        # animal.id += 1\n",
    "    \n",
    "    \n",
    "class human(animal):\n",
    "    def __init__(self, val) -> None:\n",
    "        super().__init__(val)\n",
    "        self.id = animal.id + 1\n",
    "        animal.id += 1\n",
    "        \n"
   ]
  },
  {
   "cell_type": "code",
   "execution_count": 31,
   "metadata": {},
   "outputs": [
    {
     "name": "stdout",
     "output_type": "stream",
     "text": [
      "1\n",
      "2 2\n",
      "3 2 3\n"
     ]
    }
   ],
   "source": [
    "a1 = animal(10)\n",
    "print(a1.id)\n",
    "h1 = human(20)\n",
    "print(a1.id, h1.id)\n",
    "h2 = human(30)\n",
    "print(a1.id, h1.id, h2.id)"
   ]
  },
  {
   "cell_type": "code",
   "execution_count": null,
   "metadata": {},
   "outputs": [],
   "source": []
  },
  {
   "cell_type": "code",
   "execution_count": 1,
   "metadata": {},
   "outputs": [
    {
     "ename": "TypeError",
     "evalue": "'<' not supported between instances of 'Node' and 'Node'",
     "output_type": "error",
     "traceback": [
      "\u001b[0;31m---------------------------------------------------------------------------\u001b[0m",
      "\u001b[0;31mTypeError\u001b[0m                                 Traceback (most recent call last)",
      "Cell \u001b[0;32mIn[1], line 75\u001b[0m\n\u001b[1;32m     72\u001b[0m start_node \u001b[39m=\u001b[39m Node(\u001b[39m0\u001b[39m, \u001b[39m0\u001b[39m)\n\u001b[1;32m     73\u001b[0m goal_node \u001b[39m=\u001b[39m Node(\u001b[39m5\u001b[39m, \u001b[39m4\u001b[39m)\n\u001b[0;32m---> 75\u001b[0m path \u001b[39m=\u001b[39m a_star(grid, start_node, goal_node)\n\u001b[1;32m     76\u001b[0m \u001b[39mif\u001b[39;00m path:\n\u001b[1;32m     77\u001b[0m     \u001b[39mprint\u001b[39m(\u001b[39m\"\u001b[39m\u001b[39mShortest path found:\u001b[39m\u001b[39m\"\u001b[39m, path)\n",
      "Cell \u001b[0;32mIn[1], line 58\u001b[0m, in \u001b[0;36ma_star\u001b[0;34m(grid, start, goal)\u001b[0m\n\u001b[1;32m     55\u001b[0m             neighbor\u001b[39m.\u001b[39mparent \u001b[39m=\u001b[39m current_node\n\u001b[1;32m     57\u001b[0m             \u001b[39mif\u001b[39;00m (neighbor\u001b[39m.\u001b[39mrow, neighbor\u001b[39m.\u001b[39mcol) \u001b[39mnot\u001b[39;00m \u001b[39min\u001b[39;00m {(item[\u001b[39m1\u001b[39m]\u001b[39m.\u001b[39mrow, item[\u001b[39m1\u001b[39m]\u001b[39m.\u001b[39mcol) \u001b[39mfor\u001b[39;00m item \u001b[39min\u001b[39;00m open_list}:\n\u001b[0;32m---> 58\u001b[0m                 heapq\u001b[39m.\u001b[39;49mheappush(open_list, (neighbor\u001b[39m.\u001b[39;49mf, neighbor))\n\u001b[1;32m     60\u001b[0m \u001b[39mreturn\u001b[39;00m \u001b[39mNone\u001b[39;00m\n",
      "\u001b[0;31mTypeError\u001b[0m: '<' not supported between instances of 'Node' and 'Node'"
     ]
    }
   ],
   "source": [
    "import heapq\n",
    "\n",
    "class Node:\n",
    "    def __init__(self, row, col, parent=None):\n",
    "        self.row = row\n",
    "        self.col = col\n",
    "        self.parent = parent\n",
    "        self.g = 0  # Cost from start node to current node\n",
    "        self.h = 0  # Heuristic (estimated cost from current node to end node)\n",
    "        self.f = 0  # Total cost (g + h)\n",
    "\n",
    "def heuristic(node, goal):\n",
    "    return abs(node.row - goal.row) + abs(node.col - goal.col)\n",
    "\n",
    "def get_neighbors(node, grid):\n",
    "    neighbors = []\n",
    "    directions = [(1, 0), (-1, 0), (0, 1), (0, -1)]\n",
    "    \n",
    "    for dr, dc in directions:\n",
    "        new_row, new_col = node.row + dr, node.col + dc\n",
    "        \n",
    "        if 0 <= new_row < len(grid) and 0 <= new_col < len(grid[0]) and grid[new_row][new_col] != 1:\n",
    "            neighbors.append(Node(new_row, new_col))\n",
    "    \n",
    "    return neighbors\n",
    "\n",
    "def a_star(grid, start, goal):\n",
    "    open_list = []\n",
    "    closed_set = set()\n",
    "    \n",
    "    heapq.heappush(open_list, (start.f, start))\n",
    "    \n",
    "    while open_list:\n",
    "        _, current_node = heapq.heappop(open_list)\n",
    "        \n",
    "        if (current_node.row, current_node.col) == (goal.row, goal.col):\n",
    "            path = []\n",
    "            while current_node:\n",
    "                path.insert(0, (current_node.row, current_node.col))\n",
    "                current_node = current_node.parent\n",
    "            return path\n",
    "        \n",
    "        closed_set.add((current_node.row, current_node.col))\n",
    "        \n",
    "        neighbors = get_neighbors(current_node, grid)\n",
    "        for neighbor in neighbors:\n",
    "            if (neighbor.row, neighbor.col) in closed_set:\n",
    "                continue\n",
    "            \n",
    "            tentative_g = current_node.g + 1\n",
    "            if neighbor not in open_list or tentative_g < neighbor.g:\n",
    "                neighbor.g = tentative_g\n",
    "                neighbor.h = heuristic(neighbor, goal)\n",
    "                neighbor.f = neighbor.g + neighbor.h\n",
    "                neighbor.parent = current_node\n",
    "                \n",
    "                if (neighbor.row, neighbor.col) not in {(item[1].row, item[1].col) for item in open_list}:\n",
    "                    heapq.heappush(open_list, (neighbor.f, neighbor))\n",
    "    \n",
    "    return None  # No path found\n",
    "\n",
    "# Example usage\n",
    "grid = [\n",
    "    [0, 0, 0, 0, 0],\n",
    "    [0, 1, 1, 0, 0],\n",
    "    [0, 0, 0, 0, 0],\n",
    "    [0, 0, 1, 1, 0],\n",
    "    [0, 0, 0, 0, 0],\n",
    "    [0, 0, 0, 0, 0]\n",
    "]\n",
    "\n",
    "start_node = Node(0, 0)\n",
    "goal_node = Node(5, 4)\n",
    "\n",
    "path = a_star(grid, start_node, goal_node)\n",
    "if path:\n",
    "    print(\"Shortest path found:\", path)\n",
    "else:\n",
    "    print(\"No path found\")\n"
   ]
  },
  {
   "cell_type": "code",
   "execution_count": 1,
   "metadata": {},
   "outputs": [
    {
     "ename": "SyntaxError",
     "evalue": "invalid syntax (chess_info.py, line 1189)",
     "output_type": "error",
     "traceback": [
      "Traceback \u001b[0;36m(most recent call last)\u001b[0m:\n",
      "\u001b[0m  File \u001b[1;32m~/Library/Python/3.11/lib/python/site-packages/IPython/core/interactiveshell.py:3505\u001b[0m in \u001b[1;35mrun_code\u001b[0m\n    exec(code_obj, self.user_global_ns, self.user_ns)\u001b[0m\n",
      "\u001b[0;36m  Cell \u001b[0;32mIn[1], line 1\u001b[0;36m\n\u001b[0;31m    from chess_info import *\u001b[0;36m\n",
      "\u001b[0;36m  File \u001b[0;32m~/Documents/蹬蹬科技/游戏策划/恶魔游戏/numbering test/chess_info.py:1189\u001b[0;36m\u001b[0m\n\u001b[0;31m    p.\u001b[0m\n\u001b[0m       ^\u001b[0m\n\u001b[0;31mSyntaxError\u001b[0m\u001b[0;31m:\u001b[0m invalid syntax\n"
     ]
    }
   ],
   "source": [
    "from chess_info import *\n",
    "from json import dumps\n",
    "\n",
    "dumps(rabbit())"
   ]
  },
  {
   "cell_type": "code",
   "execution_count": 1,
   "metadata": {},
   "outputs": [
    {
     "ename": "NameError",
     "evalue": "name 'scorpion' is not defined",
     "output_type": "error",
     "traceback": [
      "\u001b[0;31m---------------------------------------------------------------------------\u001b[0m",
      "\u001b[0;31mNameError\u001b[0m                                 Traceback (most recent call last)",
      "Cell \u001b[0;32mIn[1], line 1\u001b[0m\n\u001b[0;32m----> 1\u001b[0m \u001b[39mfrom\u001b[39;00m \u001b[39mbattle\u001b[39;00m \u001b[39mimport\u001b[39;00m \u001b[39m*\u001b[39m\n",
      "File \u001b[0;32m~/Documents/蹬蹬科技/游戏策划/恶魔游戏/devil_game_battle_model/battle.py:6\u001b[0m\n\u001b[1;32m      4\u001b[0m \u001b[39mfrom\u001b[39;00m \u001b[39mmath\u001b[39;00m \u001b[39mimport\u001b[39;00m dist, ceil, floor\n\u001b[1;32m      5\u001b[0m \u001b[39mfrom\u001b[39;00m \u001b[39mtermcolor\u001b[39;00m \u001b[39mimport\u001b[39;00m colored\n\u001b[0;32m----> 6\u001b[0m \u001b[39mfrom\u001b[39;00m \u001b[39mchess_info\u001b[39;00m \u001b[39mimport\u001b[39;00m \u001b[39m*\u001b[39m\n\u001b[1;32m      8\u001b[0m \u001b[39mclass\u001b[39;00m \u001b[39mbattle\u001b[39;00m:\n\u001b[1;32m      9\u001b[0m \u001b[39m    \u001b[39m\u001b[39m'''\u001b[39;00m\n\u001b[1;32m     10\u001b[0m \u001b[39m    主循环流程\u001b[39;00m\n\u001b[1;32m     11\u001b[0m \u001b[39m        每一次判定顺序: 状态判定--仇恨判定--移动判定--攻击/技能 判定 -- 被攻击者技能判定\u001b[39;00m\n\u001b[0;32m   (...)\u001b[0m\n\u001b[1;32m     23\u001b[0m \u001b[39m            判定当前棋子需要移动到什么位置 并且移动棋子 正在移动的棋子会有0.3秒攻击/技能滞后\u001b[39;00m\n\u001b[1;32m     24\u001b[0m \u001b[39m    '''\u001b[39;00m\n",
      "File \u001b[0;32m~/Documents/蹬蹬科技/游戏策划/恶魔游戏/devil_game_battle_model/chess_info.py:10\u001b[0m\n\u001b[1;32m      7\u001b[0m \u001b[39mfrom\u001b[39;00m \u001b[39mnumpy\u001b[39;00m\u001b[39m.\u001b[39;00m\u001b[39mrandom\u001b[39;00m \u001b[39mimport\u001b[39;00m random, randint\n\u001b[1;32m      8\u001b[0m \u001b[39mfrom\u001b[39;00m \u001b[39mmath\u001b[39;00m \u001b[39mimport\u001b[39;00m dist, floor\n\u001b[0;32m---> 10\u001b[0m \u001b[39mfrom\u001b[39;00m \u001b[39mstatus_info\u001b[39;00m \u001b[39mimport\u001b[39;00m \u001b[39m*\u001b[39m\n\u001b[1;32m     12\u001b[0m \u001b[39m##################################################\u001b[39;00m\n\u001b[1;32m     13\u001b[0m \u001b[39m##### 棋子技能以及 单位信息\u001b[39;00m\n\u001b[1;32m     14\u001b[0m \u001b[39m##################################################\u001b[39;00m\n\u001b[0;32m   (...)\u001b[0m\n\u001b[1;32m     19\u001b[0m \u001b[39m############################################################################################################\u001b[39;00m\n\u001b[1;32m     20\u001b[0m \u001b[39m# 兔子\u001b[39;00m\n\u001b[1;32m     21\u001b[0m \u001b[39mclass\u001b[39;00m \u001b[39mspit\u001b[39;00m(skillInterface):\n\u001b[1;32m     22\u001b[0m     \u001b[39m# spit saliva \u001b[39;00m\n",
      "File \u001b[0;32m~/Documents/蹬蹬科技/游戏策划/恶魔游戏/devil_game_battle_model/status_info.py:241\u001b[0m\n\u001b[1;32m    238\u001b[0m             \u001b[39mreturn\u001b[39;00m \u001b[39mTrue\u001b[39;00m\n\u001b[1;32m    240\u001b[0m \u001b[39m# 沙漠剧毒\u001b[39;00m\n\u001b[0;32m--> 241\u001b[0m \u001b[39mclass\u001b[39;49;00m \u001b[39msand_poisoned\u001b[39;49;00m(statusInterface):\n\u001b[1;32m    242\u001b[0m     \u001b[39mdef\u001b[39;49;00m \u001b[39m__init__\u001b[39;49m(\u001b[39mself\u001b[39;49m,\n\u001b[1;32m    243\u001b[0m                  currentTime: \u001b[39mint\u001b[39;49m,\n\u001b[1;32m    244\u001b[0m                  statusOwner: chessInterface,\n\u001b[1;32m    245\u001b[0m                  caster: scorpion,\n\u001b[1;32m    246\u001b[0m                  damageInterval: \u001b[39mint\u001b[39;49m \u001b[39m=\u001b[39;49m \u001b[39m100\u001b[39;49m \u001b[39m# 秒 * 100， 以防用float 不能用% 来判定\u001b[39;49;00m\n\u001b[1;32m    247\u001b[0m                  ) \u001b[39m-\u001b[39;49m\u001b[39m>\u001b[39;49m \u001b[39mNone\u001b[39;49;00m:\n\u001b[1;32m    248\u001b[0m         \u001b[39msuper\u001b[39;49m()\u001b[39m.\u001b[39;49m\u001b[39m__init__\u001b[39;49m(statusName \u001b[39m=\u001b[39;49m \u001b[39m\"\u001b[39;49m\u001b[39m沙漠剧毒\u001b[39;49m\u001b[39m\"\u001b[39;49m,\n\u001b[1;32m    249\u001b[0m                          currentTime \u001b[39m=\u001b[39;49m currentTime,\n\u001b[1;32m    250\u001b[0m                          statusDuration\u001b[39m=\u001b[39;49m\u001b[39m5.0\u001b[39;49m,\n\u001b[1;32m    251\u001b[0m                          statusType\u001b[39m=\u001b[39;49m\u001b[39m\"\u001b[39;49m\u001b[39mdamage\u001b[39;49m\u001b[39m\"\u001b[39;49m)\n",
      "File \u001b[0;32m~/Documents/蹬蹬科技/游戏策划/恶魔游戏/devil_game_battle_model/status_info.py:245\u001b[0m, in \u001b[0;36msand_poisoned\u001b[0;34m()\u001b[0m\n\u001b[1;32m    241\u001b[0m \u001b[39mclass\u001b[39;00m \u001b[39msand_poisoned\u001b[39;00m(statusInterface):\n\u001b[1;32m    242\u001b[0m     \u001b[39mdef\u001b[39;00m \u001b[39m__init__\u001b[39m(\u001b[39mself\u001b[39m,\n\u001b[1;32m    243\u001b[0m                  currentTime: \u001b[39mint\u001b[39m,\n\u001b[1;32m    244\u001b[0m                  statusOwner: chessInterface,\n\u001b[0;32m--> 245\u001b[0m                  caster: scorpion,\n\u001b[1;32m    246\u001b[0m                  damageInterval: \u001b[39mint\u001b[39m \u001b[39m=\u001b[39m \u001b[39m100\u001b[39m \u001b[39m# 秒 * 100， 以防用float 不能用% 来判定\u001b[39;00m\n\u001b[1;32m    247\u001b[0m                  ) \u001b[39m-\u001b[39m\u001b[39m>\u001b[39m \u001b[39mNone\u001b[39;00m:\n\u001b[1;32m    248\u001b[0m         \u001b[39msuper\u001b[39m()\u001b[39m.\u001b[39m\u001b[39m__init__\u001b[39m(statusName \u001b[39m=\u001b[39m \u001b[39m\"\u001b[39m\u001b[39m沙漠剧毒\u001b[39m\u001b[39m\"\u001b[39m,\n\u001b[1;32m    249\u001b[0m                          currentTime \u001b[39m=\u001b[39m currentTime,\n\u001b[1;32m    250\u001b[0m                          statusDuration\u001b[39m=\u001b[39m\u001b[39m5.0\u001b[39m,\n\u001b[1;32m    251\u001b[0m                          statusType\u001b[39m=\u001b[39m\u001b[39m\"\u001b[39m\u001b[39mdamage\u001b[39m\u001b[39m\"\u001b[39m)\n\u001b[1;32m    252\u001b[0m         \u001b[39mself\u001b[39m\u001b[39m.\u001b[39mdamageInterval \u001b[39m=\u001b[39m damageInterval\n",
      "\u001b[0;31mNameError\u001b[0m: name 'scorpion' is not defined"
     ]
    }
   ],
   "source": [
    "from battle import *\n"
   ]
  },
  {
   "cell_type": "code",
   "execution_count": null,
   "metadata": {},
   "outputs": [],
   "source": [
    "    # [ [0,0] [0,1] [0,2] [0,3] [0,4] ]\n",
    "    # [ [1,0] [1,1] [1,2] [1,3] [1,4] ]\n",
    "    # [ [2,0] [2,1] [2,2] [2,3] [2,4] ]\n",
    "    # [ [3,0] [3,1] [3,2] [3,3] [3,4] ]\n",
    "    # [ [4,0] [4,1] [4,2] [4,3] [4,4] ]\n",
    "    # [ [5,0] [5,1] [5,2] [5,3] [5,4] ]\n",
    "blueTeam = [bear(position = [3,2]), bee(position=[5,4]),sea_hedgehog(position=[3,4])]"
   ]
  }
 ],
 "metadata": {
  "kernelspec": {
   "display_name": "Python 3",
   "language": "python",
   "name": "python3"
  },
  "language_info": {
   "codemirror_mode": {
    "name": "ipython",
    "version": 3
   },
   "file_extension": ".py",
   "mimetype": "text/x-python",
   "name": "python",
   "nbconvert_exporter": "python",
   "pygments_lexer": "ipython3",
   "version": "3.11.3"
  },
  "orig_nbformat": 4
 },
 "nbformat": 4,
 "nbformat_minor": 2
}
